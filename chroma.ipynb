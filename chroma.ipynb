{
 "cells": [
  {
   "cell_type": "code",
   "execution_count": 2,
   "metadata": {},
   "outputs": [],
   "source": [
    "import chromadb\n",
    "chroma_client = chromadb.Client()"
   ]
  },
  {
   "cell_type": "code",
   "execution_count": 3,
   "metadata": {},
   "outputs": [],
   "source": [
    "collection = chroma_client.create_collection(name=\"my_collection\")"
   ]
  },
  {
   "cell_type": "code",
   "execution_count": 5,
   "metadata": {},
   "outputs": [
    {
     "name": "stdout",
     "output_type": "stream",
     "text": [
      "{'ids': [], 'embeddings': array([], dtype=float64), 'documents': [], 'uris': None, 'data': None, 'metadatas': [], 'included': [<IncludeEnum.embeddings: 'embeddings'>, <IncludeEnum.documents: 'documents'>, <IncludeEnum.metadatas: 'metadatas'>]}\n"
     ]
    }
   ],
   "source": [
    "print(collection.peek())"
   ]
  },
  {
   "cell_type": "code",
   "execution_count": 10,
   "metadata": {},
   "outputs": [],
   "source": [
    "client.delete_collection(name=\"my_collection\")"
   ]
  },
  {
   "cell_type": "code",
   "execution_count": 11,
   "metadata": {},
   "outputs": [
    {
     "name": "stderr",
     "output_type": "stream",
     "text": [
      "Number of requested results 5 is greater than number of elements in index 1, updating n_results = 1\n"
     ]
    },
    {
     "name": "stdout",
     "output_type": "stream",
     "text": [
      "{'ids': [['id1']], 'embeddings': None, 'documents': [[None]], 'uris': None, 'data': None, 'metadatas': [[{'name': 'The_2024_Fantasy_Football_Season_Recap'}]], 'distances': [[1.7624752521514893]], 'included': [<IncludeEnum.distances: 'distances'>, <IncludeEnum.documents: 'documents'>, <IncludeEnum.metadatas: 'metadatas'>]}\n"
     ]
    }
   ],
   "source": [
    "import pickle\n",
    "import chromadb\n",
    "from sentence_transformers import SentenceTransformer\n",
    "\n",
    "# Load a pre-trained model (you can choose any other model you like)\n",
    "model = SentenceTransformer('all-MiniLM-L6-v2')  # This is a lightweight model\n",
    "\n",
    "def your_embedding_function(query_text: str):\n",
    "    \"\"\"\n",
    "    Convert a query text into an embedding using Sentence-Transformers.\n",
    "    Args:\n",
    "        query_text (str): The input query to be converted into an embedding.\n",
    "    \n",
    "    Returns:\n",
    "        embedding (list): A numerical embedding representing the query.\n",
    "    \"\"\"\n",
    "    # Generate the embedding for the query\n",
    "    embedding = model.encode([query_text])  # Returns a 2D numpy array, we take the first entry\n",
    "    return embedding[0]  # Return the embedding as a list (1D)\n",
    "\n",
    "# Load embeddings from the .pkl file\n",
    "with open(\"data/embeddings/The_2024_Fantasy_Football_Season_Recap.pkl\", \"rb\") as file:\n",
    "    embeddings = pickle.load(file).tolist()\n",
    "\n",
    "# Initialize Chroma client with the new configuration\n",
    "client = chromadb.Client()\n",
    "\n",
    "# Create or get a collection\n",
    "collection_name = \"my_collection\"\n",
    "collection = client.create_collection(name=collection_name)\n",
    "\n",
    "# Insert embeddings into the collection (assuming you have metadata to go with them)\n",
    "metadata = [{\"id\": str(i), \"text\": f\"Sample text {i}\"} for i in range(len(embeddings))]\n",
    "ids = [m[\"id\"] for m in metadata]  # Extract ids for each embedding\n",
    "\n",
    "# Add the embeddings to the collection with ids\n",
    "collection.add(\n",
    "    ids=[\"id1\"],  # Unique identifiers\n",
    "    #documents=[m[\"text\"] for m in metadata],  # Document texts\n",
    "    metadatas=[{\"name\": \"The_2024_Fantasy_Football_Season_Recap\"}],  # Metadata\n",
    "    embeddings=embeddings  # Embeddings\n",
    ")\n",
    "\n",
    "# Query the vectorstore\n",
    "query = \"What is the best stack?\"\n",
    "query_embedding = your_embedding_function(query)\n",
    "results = collection.query(\n",
    "    query_embeddings=[query_embedding],\n",
    "    n_results=5\n",
    ")\n",
    "\n",
    "print(results)\n",
    "\n"
   ]
  },
  {
   "cell_type": "code",
   "execution_count": 12,
   "metadata": {},
   "outputs": [
    {
     "data": {
      "text/plain": [
       "{'ids': ['id1'],\n",
       " 'embeddings': array([[-9.14855823e-02, -8.55819061e-02, -5.11583500e-02,\n",
       "          1.33221652e-02,  5.11745438e-02, -5.44391293e-03,\n",
       "         -5.48377493e-03,  2.44727898e-02,  5.62079549e-02,\n",
       "         -2.14981642e-02, -1.07657313e-01, -3.58400010e-02,\n",
       "         -1.83837418e-03, -1.88791659e-02, -2.34600976e-02,\n",
       "         -4.17052470e-02,  1.22636929e-03, -1.02493633e-02,\n",
       "          4.34904732e-02, -4.89238538e-02, -7.62056783e-02,\n",
       "         -2.03423332e-02, -7.97431618e-02, -4.61718552e-02,\n",
       "          5.10106385e-02, -9.51238535e-03, -1.78789459e-02,\n",
       "         -6.61891792e-03, -1.37445956e-01, -1.05045080e-01,\n",
       "         -3.12701762e-02, -3.65678109e-02,  6.83739632e-02,\n",
       "         -3.36996280e-02, -5.64831644e-02, -3.66589837e-02,\n",
       "         -3.55330221e-02,  1.22345481e-02,  1.03911847e-01,\n",
       "          1.72904190e-02, -9.43019092e-02, -9.68395621e-02,\n",
       "         -1.58470050e-02,  8.57089926e-03, -4.83258590e-02,\n",
       "         -3.45662609e-02, -1.16802044e-01, -5.81809971e-03,\n",
       "          5.13370484e-02,  1.14609459e-02, -7.48485774e-02,\n",
       "          3.84456329e-02,  3.02952472e-02,  1.05258375e-01,\n",
       "          5.24005247e-03,  5.30327633e-02, -9.87350419e-02,\n",
       "         -3.48383263e-02, -6.23783022e-02, -8.30159485e-02,\n",
       "          2.11598072e-02,  1.27230678e-02,  1.92019809e-02,\n",
       "         -6.63862377e-02, -1.00004680e-01, -3.51105109e-02,\n",
       "         -7.77230412e-02,  1.28237987e-02, -1.59885315e-03,\n",
       "         -2.14948840e-02,  2.63712071e-02,  1.03120215e-01,\n",
       "         -1.30698621e-01, -6.07185951e-03,  4.64575887e-02,\n",
       "          7.46469200e-02, -1.59085654e-02,  3.20563242e-02,\n",
       "         -2.27543321e-02,  2.12988872e-02, -3.42100412e-02,\n",
       "          2.11434476e-02,  3.39543968e-02, -2.68238218e-04,\n",
       "         -1.06830277e-01,  7.24024251e-02,  3.61743309e-02,\n",
       "          5.05816601e-02,  1.38415536e-02,  8.66819173e-03,\n",
       "          3.93502042e-02, -4.27114926e-02,  1.16549665e-02,\n",
       "         -3.57307717e-02,  7.37684742e-02, -1.98352449e-02,\n",
       "         -1.15267206e-02, -1.35373607e-01, -4.77265231e-02,\n",
       "          4.92423326e-02,  2.50043161e-02,  1.45736791e-03,\n",
       "         -1.83579251e-02, -1.13229670e-01,  5.60976751e-02,\n",
       "         -7.70091638e-02,  6.06888672e-03, -1.95628591e-02,\n",
       "         -4.78074178e-02, -3.52265500e-02,  7.84561113e-02,\n",
       "          3.79970446e-02, -6.22139312e-02,  6.13108613e-02,\n",
       "         -6.50364310e-02,  1.16052879e-02, -5.39819859e-02,\n",
       "          6.68482259e-02,  6.06659949e-02,  8.28747153e-02,\n",
       "          3.37558538e-02,  1.02804728e-01, -7.15793483e-03,\n",
       "          1.02518946e-01,  2.96563823e-02,  6.30971193e-02,\n",
       "          5.15640788e-02,  2.66271070e-32,  3.88805829e-02,\n",
       "          6.07097149e-02,  4.46568243e-02,  1.38608217e-02,\n",
       "         -7.48647377e-02, -3.26142013e-02,  4.53081764e-02,\n",
       "         -3.77172306e-02, -4.56498675e-02, -8.49099010e-02,\n",
       "         -1.37296121e-03,  2.49453969e-02, -2.23796424e-02,\n",
       "          3.60342711e-02,  7.90439695e-02, -2.22497843e-02,\n",
       "         -3.07449494e-02, -3.44629884e-02,  1.20786335e-02,\n",
       "          3.15104462e-02,  2.90321913e-02, -2.41325945e-02,\n",
       "          2.22183038e-02, -3.14680338e-02, -2.14957464e-02,\n",
       "         -4.25484590e-02, -9.52140391e-02, -5.37658781e-02,\n",
       "         -8.70123655e-02,  1.28021033e-03, -4.00335230e-02,\n",
       "          3.25412117e-03, -6.81806589e-03,  2.26627570e-02,\n",
       "         -1.77237615e-02, -3.16367261e-02,  1.23695415e-02,\n",
       "          5.16109318e-02,  2.84019932e-02, -7.45794177e-03,\n",
       "         -1.31831085e-02, -1.59553830e-02, -1.00146092e-01,\n",
       "         -6.50002658e-02, -4.44472115e-03, -1.24848187e-02,\n",
       "          9.87664144e-03,  4.83019603e-03, -9.02377069e-02,\n",
       "         -8.92145708e-02, -3.83268367e-03, -1.96992811e-02,\n",
       "          2.54812650e-03,  1.26967216e-02, -1.06942564e-01,\n",
       "         -2.09495947e-02,  4.06906707e-03, -1.46307575e-03,\n",
       "         -1.73031352e-02,  4.07410860e-02,  2.75672954e-02,\n",
       "         -5.24242520e-02, -4.02447069e-03, -4.39554602e-02,\n",
       "         -8.30767825e-02, -3.81078944e-02,  3.58740166e-02,\n",
       "          2.39331201e-02,  1.33341672e-02,  1.00817338e-01,\n",
       "          3.95814329e-02, -4.27825227e-02, -5.12720144e-04,\n",
       "          6.02448024e-02,  7.84916878e-02, -5.59082860e-03,\n",
       "          7.61817619e-02,  6.82483092e-02,  4.49689962e-02,\n",
       "         -1.94378328e-02,  4.75068297e-03, -4.31532636e-02,\n",
       "         -3.16502526e-02, -3.10097560e-02, -2.39700302e-02,\n",
       "          4.20667864e-02, -1.42067615e-02,  5.77260256e-02,\n",
       "         -1.09695159e-01, -2.21736617e-02, -1.08257970e-02,\n",
       "          1.30714867e-02, -9.92691740e-02, -7.90729895e-02,\n",
       "         -1.43154347e-02, -2.58219492e-32, -1.41988099e-02,\n",
       "         -1.96274603e-03,  5.80368526e-02,  4.05481234e-02,\n",
       "          1.07011609e-02, -1.13167707e-02,  1.13327028e-02,\n",
       "          4.21637036e-02,  1.12385318e-01,  7.42311254e-02,\n",
       "          1.57750063e-02,  2.13496462e-02, -1.15035333e-01,\n",
       "          5.23413811e-03, -4.25815489e-03, -5.25872111e-02,\n",
       "         -8.91435966e-02, -5.16086332e-02, -4.47462015e-02,\n",
       "         -5.77115268e-03, -2.32127979e-02,  3.31991650e-02,\n",
       "         -4.59841117e-02, -2.53358837e-02,  5.11869676e-02,\n",
       "          2.07409821e-02, -6.56045973e-02,  8.07894692e-02,\n",
       "         -2.83488464e-02,  8.47179443e-02,  2.15274915e-02,\n",
       "         -1.79539323e-02,  6.36010617e-02,  6.93142554e-03,\n",
       "          3.02613201e-03, -2.90759653e-02,  2.58985180e-02,\n",
       "          5.84209934e-02,  2.09467486e-02,  3.35778594e-02,\n",
       "          5.99022303e-03, -7.54689937e-03, -9.98891145e-03,\n",
       "          6.88632438e-03,  5.44005744e-02, -3.76200769e-03,\n",
       "         -6.17175736e-02, -4.71743532e-02, -2.70036515e-02,\n",
       "          1.02468833e-01, -5.51502816e-02,  5.18421382e-02,\n",
       "         -1.35508671e-01,  2.74363384e-02, -2.52994876e-02,\n",
       "         -3.03030703e-02, -5.30825183e-02,  3.02845500e-02,\n",
       "         -4.37144600e-02, -1.20092714e-02,  9.42862500e-03,\n",
       "          1.25870541e-01,  2.69718654e-02,  5.05249621e-03,\n",
       "          1.06040388e-01, -4.25237902e-02, -6.86735380e-03,\n",
       "         -5.47647439e-02, -6.71017095e-02, -1.27891013e-02,\n",
       "         -1.07195877e-01, -7.03321546e-02,  6.35441318e-02,\n",
       "         -1.75842997e-02,  1.02155449e-04,  3.85902189e-02,\n",
       "         -1.42068807e-02,  1.64553896e-02,  8.25364515e-03,\n",
       "          2.07964927e-02, -8.61948505e-02, -2.00374667e-02,\n",
       "         -4.17630449e-02,  6.53541908e-02,  7.26808310e-02,\n",
       "          5.32509685e-02,  2.94481572e-02,  4.10213210e-02,\n",
       "          3.47118489e-02,  1.37181403e-02,  3.13363336e-02,\n",
       "         -6.11679815e-02, -2.12669726e-02, -2.74563115e-02,\n",
       "          2.01425329e-02, -7.01644325e-08, -2.32520718e-02,\n",
       "          1.64070688e-02, -2.32481882e-02,  6.67107105e-02,\n",
       "          5.45440912e-02,  3.07268649e-02,  3.99672873e-02,\n",
       "          3.85662541e-02,  5.93256541e-02, -3.14480960e-02,\n",
       "          3.03339120e-02, -5.35122398e-03,  1.22782197e-02,\n",
       "         -6.19316660e-02,  3.05078402e-02,  4.63275947e-02,\n",
       "         -9.70223472e-02,  3.74251269e-02,  1.61435772e-02,\n",
       "         -2.16409229e-02, -2.05378737e-02, -2.41422132e-02,\n",
       "         -1.38695640e-02, -7.19201798e-03,  5.62650785e-02,\n",
       "         -7.62760267e-02, -8.37517977e-02, -2.68145395e-03,\n",
       "         -1.12052271e-02,  2.18328442e-02,  5.71637228e-02,\n",
       "          1.54743074e-02,  6.56345561e-02, -1.17218643e-02,\n",
       "          8.59029517e-02,  2.99924668e-02, -3.05092093e-02,\n",
       "         -2.44641714e-02,  1.77208800e-02, -8.95985123e-03,\n",
       "          5.37134614e-03,  2.22858004e-02, -2.50316653e-02,\n",
       "         -8.12626928e-02, -4.94301058e-02, -5.33608608e-02,\n",
       "          2.43404740e-03,  9.85695422e-03, -1.11964336e-02,\n",
       "         -1.00287035e-01,  2.00470723e-02,  1.25689339e-02,\n",
       "          8.89488235e-02,  9.06392559e-02,  4.55482751e-02,\n",
       "          8.08743536e-02, -6.72110245e-02,  5.25309332e-02,\n",
       "          3.12441327e-02, -3.58513519e-02,  5.48813939e-02,\n",
       "         -5.67569286e-02, -5.22764586e-02,  2.56730877e-02]]),\n",
       " 'documents': [None],\n",
       " 'uris': None,\n",
       " 'data': None,\n",
       " 'metadatas': [{'name': 'The_2024_Fantasy_Football_Season_Recap'}],\n",
       " 'included': [<IncludeEnum.embeddings: 'embeddings'>,\n",
       "  <IncludeEnum.documents: 'documents'>,\n",
       "  <IncludeEnum.metadatas: 'metadatas'>]}"
      ]
     },
     "execution_count": 12,
     "metadata": {},
     "output_type": "execute_result"
    }
   ],
   "source": [
    "collection.peek()"
   ]
  },
  {
   "cell_type": "code",
   "execution_count": null,
   "metadata": {},
   "outputs": [],
   "source": []
  }
 ],
 "metadata": {
  "kernelspec": {
   "display_name": "env",
   "language": "python",
   "name": "python3"
  },
  "language_info": {
   "codemirror_mode": {
    "name": "ipython",
    "version": 3
   },
   "file_extension": ".py",
   "mimetype": "text/x-python",
   "name": "python",
   "nbconvert_exporter": "python",
   "pygments_lexer": "ipython3",
   "version": "3.10.12"
  }
 },
 "nbformat": 4,
 "nbformat_minor": 2
}
